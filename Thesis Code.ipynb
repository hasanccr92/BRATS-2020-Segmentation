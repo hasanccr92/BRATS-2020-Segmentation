{
 "cells": [
  {
   "cell_type": "markdown",
   "metadata": {},
   "source": [
    "# Brain Tumor Segmentation  Residual Unet"
   ]
  },
  {
   "cell_type": "markdown",
   "metadata": {},
   "source": [
    "**Import Libraries** "
   ]
  },
  {
   "cell_type": "code",
   "execution_count": null,
   "metadata": {
    "_kg_hide-output": true,
    "execution": {
     "iopub.execute_input": "2022-11-25T00:24:25.38437Z",
     "iopub.status.busy": "2022-11-25T00:24:25.384019Z",
     "iopub.status.idle": "2022-11-25T00:24:25.392359Z",
     "shell.execute_reply": "2022-11-25T00:24:25.391222Z",
     "shell.execute_reply.started": "2022-11-25T00:24:25.384337Z"
    }
   },
   "outputs": [],
   "source": [
    "import numpy as np\n",
    "import pandas as pd\n",
    "import matplotlib.pyplot as plt\n",
    "import tensorflow as tf\n",
    "from sklearn.model_selection import train_test_split\n",
    "from tensorflow import keras\n",
    "from tensorflow.keras.models import Model, load_model\n",
    "from tensorflow.keras.layers import Input ,BatchNormalization , Activation \n",
    "from tensorflow.keras.layers import Conv2D, UpSampling2D\n",
    "from tensorflow.keras.layers import MaxPooling2D\n",
    "from tensorflow.keras.layers import concatenate\n",
    "from tensorflow.keras.callbacks import EarlyStopping, ModelCheckpoint\n",
    "from tensorflow.keras import optimizers \n",
    "from sklearn.model_selection import train_test_split\n",
    "import os\n",
    "import nibabel as nib\n",
    "import cv2 as cv\n",
    "import matplotlib.pyplot as plt\n",
    "from tensorflow.keras import backend as K\n",
    "import glob\n",
    "import skimage.io as io\n",
    "import skimage.color as color\n",
    "import random as r\n",
    "import math\n",
    "from nilearn import plotting"
   ]
  },
  {
   "cell_type": "markdown",
   "metadata": {},
   "source": [
    "# **BraTs2020 Data Visualization**\n",
    "**In this section, I select a sample data from Brats2020  and visualize it to see the input data**"
   ]
  },
  {
   "cell_type": "code",
   "execution_count": null,
   "metadata": {
    "execution": {
     "iopub.execute_input": "2022-11-25T00:24:25.447192Z",
     "iopub.status.busy": "2022-11-25T00:24:25.446286Z",
     "iopub.status.idle": "2022-11-25T00:24:25.524408Z",
     "shell.execute_reply": "2022-11-25T00:24:25.523492Z",
     "shell.execute_reply.started": "2022-11-25T00:24:25.447154Z"
    }
   },
   "outputs": [],
   "source": [
    "Flair= nib.load('F://Thesis Group T2230051/archive/BraTS2020_TrainingData/MICCAI_BraTS2020_TrainingData/BraTS20_Training_003/BraTS20_Training_003_flair.nii')\n",
    "Seg= nib.load('F://Thesis Group T2230051/archive/BraTS2020_TrainingData/MICCAI_BraTS2020_TrainingData/BraTS20_Training_003/BraTS20_Training_003_seg.nii')\n",
    "T1= nib.load('F://Thesis Group T2230051/archive/BraTS2020_TrainingData/MICCAI_BraTS2020_TrainingData/BraTS20_Training_003/BraTS20_Training_003_t1.nii')\n",
    "T1ce= nib.load('F://Thesis Group T2230051/archive/BraTS2020_TrainingData/MICCAI_BraTS2020_TrainingData/BraTS20_Training_003/BraTS20_Training_003_t1ce.nii')\n",
    "T2= nib.load('F://Thesis Group T2230051/archive/BraTS2020_TrainingData/MICCAI_BraTS2020_TrainingData/BraTS20_Training_003/BraTS20_Training_003_t2.nii')"
   ]
  },
  {
   "cell_type": "markdown",
   "metadata": {},
   "source": [
    "# Data Preprocessing"
   ]
  },
  {
   "cell_type": "code",
   "execution_count": null,
   "metadata": {
    "execution": {
     "iopub.execute_input": "2022-11-25T00:24:35.967895Z",
     "iopub.status.busy": "2022-11-25T00:24:35.967233Z",
     "iopub.status.idle": "2022-11-25T00:25:06.963138Z",
     "shell.execute_reply": "2022-11-25T00:25:06.962104Z",
     "shell.execute_reply.started": "2022-11-25T00:24:35.967855Z"
    }
   },
   "outputs": [],
   "source": [
    "Path= 'F://Thesis Group T2230051/archive/BraTS2020_TrainingData/MICCAI_BraTS2020_TrainingData'\n",
    "p=os.listdir(Path)\n",
    "Input_Data= []\n",
    "def Data_Preprocessing(modalities_dir):\n",
    "    all_modalities = []    \n",
    "    for modality in modalities_dir:      \n",
    "        nifti_file   = nib.load(modality)\n",
    "        brain_numpy  = np.asarray(nifti_file.dataobj)    \n",
    "        all_modalities.append(brain_numpy)\n",
    "    brain_affine   = nifti_file.affine\n",
    "    all_modalities = np.array(all_modalities)\n",
    "    all_modalities = np.rint(all_modalities).astype(np.int16)\n",
    "    all_modalities = all_modalities[:, :, :, :]\n",
    "    all_modalities = np.transpose(all_modalities)\n",
    "    return all_modalities\n",
    "for i in p[:20]:\n",
    "    brain_dir = os.path.normpath(Path+'/'+i)\n",
    "    flair     = glob.glob(os.path.join(brain_dir, '*_flair*.nii'))\n",
    "    t1        = glob.glob(os.path.join(brain_dir, '*_t1*.nii'))\n",
    "    t1ce      = glob.glob(os.path.join(brain_dir, '*_t1ce*.nii'))\n",
    "    t2        = glob.glob(os.path.join(brain_dir, '*_t2*.nii'))\n",
    "    gt        = glob.glob( os.path.join(brain_dir, '*_seg*.nii'))\n",
    "    modalities_dir = [flair[0], t1[0], t1ce[0], t2[0], gt[0]]\n",
    "    P_Data = Data_Preprocessing(modalities_dir)\n",
    "    Input_Data.append(P_Data)\n"
   ]
  },
  {
   "cell_type": "markdown",
   "metadata": {},
   "source": [
    "**Check the output**"
   ]
  },
  {
   "cell_type": "code",
   "execution_count": null,
   "metadata": {
    "execution": {
     "iopub.execute_input": "2022-11-25T00:25:06.965179Z",
     "iopub.status.busy": "2022-11-25T00:25:06.964798Z",
     "iopub.status.idle": "2022-11-25T00:25:07.177681Z",
     "shell.execute_reply": "2022-11-25T00:25:07.176751Z",
     "shell.execute_reply.started": "2022-11-25T00:25:06.965138Z"
    }
   },
   "outputs": [],
   "source": [
    "fig = plt.figure(figsize=(5,5))\n",
    "immmg = Input_Data[1][100,:,:,3]\n",
    "imgplot = plt.imshow(immmg)\n",
    "plt.show()"
   ]
  },
  {
   "cell_type": "markdown",
   "metadata": {},
   "source": [
    "**concatenate images**"
   ]
  },
  {
   "cell_type": "code",
   "execution_count": null,
   "metadata": {
    "execution": {
     "iopub.execute_input": "2022-11-25T00:25:07.179899Z",
     "iopub.status.busy": "2022-11-25T00:25:07.179011Z",
     "iopub.status.idle": "2022-11-25T00:25:07.189157Z",
     "shell.execute_reply": "2022-11-25T00:25:07.188221Z",
     "shell.execute_reply.started": "2022-11-25T00:25:07.179857Z"
    }
   },
   "outputs": [],
   "source": [
    "def Data_Concatenate(Input_Data):\n",
    "    counter=0\n",
    "    Output= []\n",
    "    for i in range(5):\n",
    "        print('$')\n",
    "        c=0\n",
    "        counter=0\n",
    "        for ii in range(len(Input_Data)):\n",
    "            if (counter != len(Input_Data)):\n",
    "                a= Input_Data[counter][:,:,:,i]\n",
    "                #print('a={}'.format(a.shape))\n",
    "                b= Input_Data[counter+1][:,:,:,i]\n",
    "                #print('b={}'.format(b.shape))\n",
    "                if(counter==0):\n",
    "                    c= np.concatenate((a, b), axis=0)\n",
    "                    print('c1={}'.format(c.shape))\n",
    "                    counter= counter+2\n",
    "                else:\n",
    "                    c1= np.concatenate((a, b), axis=0)\n",
    "                    c= np.concatenate((c, c1), axis=0)\n",
    "                    print('c2={}'.format(c.shape))\n",
    "                    counter= counter+2\n",
    "        c= c[:,:,:,np.newaxis]\n",
    "        Output.append(c)\n",
    "    return Output"
   ]
  },
  {
   "cell_type": "code",
   "execution_count": null,
   "metadata": {
    "execution": {
     "iopub.execute_input": "2022-11-25T00:25:07.191144Z",
     "iopub.status.busy": "2022-11-25T00:25:07.190733Z",
     "iopub.status.idle": "2022-11-25T00:25:11.211472Z",
     "shell.execute_reply": "2022-11-25T00:25:11.210315Z",
     "shell.execute_reply.started": "2022-11-25T00:25:07.191107Z"
    }
   },
   "outputs": [],
   "source": [
    "InData= Data_Concatenate(Input_Data)"
   ]
  },
  {
   "cell_type": "code",
   "execution_count": null,
   "metadata": {
    "execution": {
     "iopub.execute_input": "2022-11-25T00:25:11.213548Z",
     "iopub.status.busy": "2022-11-25T00:25:11.213137Z",
     "iopub.status.idle": "2022-11-25T00:25:20.66668Z",
     "shell.execute_reply": "2022-11-25T00:25:20.665623Z",
     "shell.execute_reply.started": "2022-11-25T00:25:11.213508Z"
    }
   },
   "outputs": [],
   "source": [
    "AIO= concatenate(InData, axis=3)\n",
    "AIO=np.array(AIO,dtype='float32')\n",
    "TR=np.array(AIO[:,:,:,1],dtype='float32')\n",
    "TRL=np.array(AIO[:,:,:,4],dtype='float32')"
   ]
  },
  {
   "cell_type": "code",
   "execution_count": null,
   "metadata": {
    "execution": {
     "iopub.execute_input": "2022-11-25T00:25:20.673147Z",
     "iopub.status.busy": "2022-11-25T00:25:20.672222Z",
     "iopub.status.idle": "2022-11-25T00:25:21.492605Z",
     "shell.execute_reply": "2022-11-25T00:25:21.491311Z",
     "shell.execute_reply.started": "2022-11-25T00:25:20.673097Z"
    }
   },
   "outputs": [],
   "source": [
    "X_train , X_test, Y_train, Y_test = train_test_split(TR, TRL, test_size=0.15, random_state=42)\n",
    "AIO=TRL=0"
   ]
  },
  {
   "cell_type": "code",
   "execution_count": null,
   "metadata": {
    "execution": {
     "iopub.execute_input": "2022-11-25T00:25:21.494877Z",
     "iopub.status.busy": "2022-11-25T00:25:21.494196Z",
     "iopub.status.idle": "2022-11-25T00:25:21.509471Z",
     "shell.execute_reply": "2022-11-25T00:25:21.508485Z",
     "shell.execute_reply.started": "2022-11-25T00:25:21.494827Z"
    }
   },
   "outputs": [],
   "source": [
    "def bn_act(x, act=True):\n",
    "    x = keras.layers.BatchNormalization()(x)\n",
    "    if act == True:\n",
    "        x = keras.layers.Activation(\"relu\")(x)\n",
    "    return x\n",
    "\n",
    "def conv_block(x, filters, kernel_size=(3, 3), padding=\"same\", strides=1):\n",
    "    conv = bn_act(x)\n",
    "    conv = keras.layers.Conv2D(filters, kernel_size, padding=padding, strides=strides)(conv)\n",
    "    return conv\n",
    "\n",
    "def stem(x, filters, kernel_size=(3, 3), padding=\"same\", strides=1):\n",
    "    conv = keras.layers.Conv2D(filters, kernel_size, padding=padding, strides=strides)(x)\n",
    "    conv = conv_block(conv, filters, kernel_size=kernel_size, padding=padding, strides=strides)\n",
    "    \n",
    "    shortcut = keras.layers.Conv2D(filters, kernel_size=(1, 1), padding=padding, strides=strides)(x)\n",
    "    shortcut = bn_act(shortcut, act=False)\n",
    "    \n",
    "    output = keras.layers.Add()([conv, shortcut])\n",
    "    return output\n",
    "\n",
    "def residual_block(x, filters, kernel_size=(3, 3), padding=\"same\", strides=1):\n",
    "    res = conv_block(x, filters, kernel_size=kernel_size, padding=padding, strides=strides)\n",
    "    res = conv_block(res, filters, kernel_size=kernel_size, padding=padding, strides=1)\n",
    "    \n",
    "    shortcut = keras.layers.Conv2D(filters, kernel_size=(1, 1), padding=padding, strides=strides)(x)\n",
    "    shortcut = bn_act(shortcut, act=False)\n",
    "    \n",
    "    output = keras.layers.Add()([shortcut, res])\n",
    "    return output\n",
    "\n",
    "def upsample_concat_block(x, xskip):\n",
    "    u = keras.layers.UpSampling2D((2, 2))(x)\n",
    "    c = keras.layers.Concatenate()([u, xskip])\n",
    "    return c\n",
    "#ddeplabv3+\n",
    "def convolution_block(block_input,num_filters=128, kernel_size=3, dilation_rate=1, padding=\"same\", use_bias=False):\n",
    "    x = keras.layers.Conv2D(\n",
    "        num_filters,\n",
    "        kernel_size=kernel_size,\n",
    "        dilation_rate=dilation_rate,\n",
    "        padding=\"same\",\n",
    "        use_bias=use_bias,\n",
    "        kernel_initializer=keras.initializers.HeNormal())(block_input)\n",
    "    x = keras.layers.BatchNormalization()(x)\n",
    "    return tf.nn.relu(x)\n",
    "def DilatedSpatialPyramidPooling(dspp_input):\n",
    "    dims = dspp_input.shape\n",
    "    x = keras.layers.AveragePooling2D(pool_size=(dims[-3], dims[-2]))(dspp_input)\n",
    "    x = convolution_block(x, kernel_size=1, use_bias=True)\n",
    "    out_pool = keras.layers.UpSampling2D(\n",
    "        size=(dims[-3] // x.shape[1], dims[-2] // x.shape[2]), interpolation=\"bilinear\",\n",
    "    )(x)\n",
    "    print(\"Inside dspp, out_pool: \", out_pool.shape)\n",
    "    out_1 = convolution_block(dspp_input, kernel_size=1, dilation_rate=1)\n",
    "    out_6 = convolution_block(dspp_input, kernel_size=3, dilation_rate=6)\n",
    "    out_12 = convolution_block(dspp_input, kernel_size=3, dilation_rate=12)\n",
    "    out_18 = convolution_block(dspp_input, kernel_size=3, dilation_rate=18)\n",
    "\n",
    "    x = keras.layers.Concatenate(axis=-1)([out_pool, out_1, out_6, out_12, out_18])\n",
    "    output = convolution_block(x, kernel_size=1)\n",
    "    return output"
   ]
  },
  {
   "cell_type": "code",
   "execution_count": null,
   "metadata": {
    "execution": {
     "iopub.execute_input": "2022-11-25T00:25:21.520148Z",
     "iopub.status.busy": "2022-11-25T00:25:21.516681Z",
     "iopub.status.idle": "2022-11-25T00:25:21.534776Z",
     "shell.execute_reply": "2022-11-25T00:25:21.533511Z",
     "shell.execute_reply.started": "2022-11-25T00:25:21.5201Z"
    }
   },
   "outputs": [],
   "source": [
    "def ResUNet():\n",
    "    f = [16, 32, 64, 128, 256]\n",
    "    inputs = keras.layers.Input((240, 240, 1))\n",
    "    \n",
    "    ## Encoder\n",
    "    e0 = inputs\n",
    "    c1 = convolution_block(e0)\n",
    "    d1 = DilatedSpatialPyramidPooling(c1)\n",
    "    \n",
    "    e1 = stem(d1, f[0])\n",
    "    e2 = residual_block(e1, f[1], strides=2)\n",
    "    e3 = residual_block(e2, f[2], strides=2)\n",
    "    e4 = residual_block(e3, f[3], strides=2)\n",
    "    e5 = residual_block(e4, f[4], strides=2)\n",
    "    \n",
    "    ## Bridge\n",
    "    b0 = conv_block(e5, f[4], strides=1)\n",
    "    b1 = conv_block(b0, f[4], strides=1)\n",
    "    \n",
    "    ## Decoder\n",
    "    u1 = upsample_concat_block(b1, e4)\n",
    "    d1 = residual_block(u1, f[4])\n",
    "    \n",
    "    u2 = upsample_concat_block(d1, e3)\n",
    "    d2 = residual_block(u2, f[3])\n",
    "    \n",
    "    u3 = upsample_concat_block(d2, e2)\n",
    "    d3 = residual_block(u3, f[2])\n",
    "    \n",
    "    u4 = upsample_concat_block(d3, e1)\n",
    "    d4 = residual_block(u4, f[1])\n",
    "    \n",
    "    outputs = keras.layers.Conv2D(1, (1, 1), padding=\"same\", activation=\"sigmoid\")(d4)\n",
    "    model = keras.models.Model(inputs, outputs)\n",
    "    return model"
   ]
  },
  {
   "cell_type": "code",
   "execution_count": null,
   "metadata": {
    "execution": {
     "iopub.execute_input": "2022-11-25T00:25:21.54231Z",
     "iopub.status.busy": "2022-11-25T00:25:21.539403Z",
     "iopub.status.idle": "2022-11-25T00:25:21.55153Z",
     "shell.execute_reply": "2022-11-25T00:25:21.550543Z",
     "shell.execute_reply.started": "2022-11-25T00:25:21.542269Z"
    }
   },
   "outputs": [],
   "source": [
    "smooth = 1.\n",
    "\n",
    "def dice_coef(y_true, y_pred):\n",
    "    y_true_f = tf.layers.flatten(y_true)\n",
    "    y_pred_f = tf.layers.flatten(y_pred)\n",
    "    intersection = tf.reduce_sum(y_true_f * y_pred_f)\n",
    "    return (2. * intersection + smooth) / (tf.reduce_sum(y_true_f) + tf.reduce_sum(y_pred_f) + smooth)\n",
    "\n",
    "\n",
    "def dice_coef_loss(y_true, y_pred):\n",
    "    return 1.0 - dice_coef(y_true, y_pred)"
   ]
  },
  {
   "cell_type": "code",
   "execution_count": null,
   "metadata": {
    "execution": {
     "iopub.execute_input": "2022-11-25T00:25:21.557381Z",
     "iopub.status.busy": "2022-11-25T00:25:21.556509Z",
     "iopub.status.idle": "2022-11-25T00:25:22.289827Z",
     "shell.execute_reply": "2022-11-25T00:25:22.288821Z",
     "shell.execute_reply.started": "2022-11-25T00:25:21.557332Z"
    }
   },
   "outputs": [],
   "source": [
    "model = ResUNet()\n",
    "adam = keras.optimizers.Adam()\n",
    "model.compile(optimizer=adam, loss=dice_coef_loss, metrics=[dice_coef])\n",
    "model.summary()"
   ]
  },
  {
   "cell_type": "code",
   "execution_count": null,
   "metadata": {
    "execution": {
     "iopub.execute_input": "2022-11-25T00:25:22.291974Z",
     "iopub.status.busy": "2022-11-25T00:25:22.291283Z",
     "iopub.status.idle": "2022-11-25T00:25:22.301908Z",
     "shell.execute_reply": "2022-11-25T00:25:22.300971Z",
     "shell.execute_reply.started": "2022-11-25T00:25:22.291934Z"
    }
   },
   "outputs": [],
   "source": [
    "# Computing Dice_Coefficient\n",
    "def dice_coef(y_true, y_pred, smooth=1.0):\n",
    "    y_true_f = K.flatten(y_true)\n",
    "    y_pred_f = K.flatten(y_pred)\n",
    "    intersection = K.sum(y_true_f * y_pred_f)\n",
    "    return (2. * intersection + smooth) / (K.sum(y_true_f) + K.sum(y_pred_f) + smooth)\n",
    "\n",
    "# Computing Precision \n",
    "def precision(y_true, y_pred):\n",
    "        true_positives = K.sum(K.round(K.clip(y_true * y_pred, 0, 1)))\n",
    "        predicted_positives = K.sum(K.round(K.clip(y_pred, 0, 1)))\n",
    "        precision = true_positives / (predicted_positives + K.epsilon())\n",
    "        return precision\n",
    "\n",
    "# Computing Sensitivity      \n",
    "def sensitivity(y_true, y_pred):\n",
    "    true_positives = K.sum(K.round(K.clip(y_true * y_pred, 0, 1)))\n",
    "    possible_positives = K.sum(K.round(K.clip(y_true, 0, 1)))\n",
    "    return true_positives / (possible_positives + K.epsilon())\n",
    "\n",
    "# Computing Specificity\n",
    "def specificity(y_true, y_pred):\n",
    "    true_negatives = K.sum(K.round(K.clip((1-y_true) * (1-y_pred), 0, 1)))\n",
    "    possible_negatives = K.sum(K.round(K.clip(1-y_true, 0, 1)))\n",
    "    return true_negatives / (possible_negatives + K.epsilon())\n",
    "def iou(y_true, y_pred, smooth=1.0):\n",
    "    intersection = K.sum(y_true * y_pred)\n",
    "    union = K.sum(y_true) + K.sum(y_pred) - intersection\n",
    "    iou = (intersection + smooth) / (union + smooth)\n",
    "    return iou\n"
   ]
  },
  {
   "cell_type": "code",
   "execution_count": null,
   "metadata": {
    "execution": {
     "iopub.execute_input": "2022-11-25T00:25:22.305299Z",
     "iopub.status.busy": "2022-11-25T00:25:22.304491Z",
     "iopub.status.idle": "2022-11-25T00:25:22.323033Z",
     "shell.execute_reply": "2022-11-25T00:25:22.321792Z",
     "shell.execute_reply.started": "2022-11-25T00:25:22.305261Z"
    }
   },
   "outputs": [],
   "source": [
    "Adam=optimizers.Adam(learning_rate=0.001)\n",
    "model.compile(optimizer=Adam, loss='binary_crossentropy', metrics=['accuracy',dice_coef,precision,sensitivity,specificity,iou])"
   ]
  },
  {
   "cell_type": "code",
   "execution_count": null,
   "metadata": {
    "execution": {
     "iopub.execute_input": "2022-11-25T00:25:22.326311Z",
     "iopub.status.busy": "2022-11-25T00:25:22.325499Z",
     "iopub.status.idle": "2022-11-25T00:43:07.631733Z",
     "shell.execute_reply": "2022-11-25T00:43:07.630786Z",
     "shell.execute_reply.started": "2022-11-25T00:25:22.326276Z"
    }
   },
   "outputs": [],
   "source": [
    "history = model.fit(X_train,Y_train,batch_size=32,epochs=10,validation_split=0.20,verbose=1,initial_epoch=0)"
   ]
  },
  {
   "cell_type": "code",
   "execution_count": null,
   "metadata": {
    "execution": {
     "iopub.execute_input": "2022-11-25T00:43:07.639255Z",
     "iopub.status.busy": "2022-11-25T00:43:07.638962Z",
     "iopub.status.idle": "2022-11-25T00:43:23.412523Z",
     "shell.execute_reply": "2022-11-25T00:43:23.411482Z",
     "shell.execute_reply.started": "2022-11-25T00:43:07.639228Z"
    }
   },
   "outputs": [],
   "source": [
    "# Evaluating the model on the training and testing data \n",
    "model.evaluate(x=X_train, y=Y_train, batch_size=32 , verbose=1, sample_weight=None, steps=None)\n",
    "model.evaluate(x=X_test, y=Y_test, batch_size=32, verbose=1, sample_weight=None, steps=None)"
   ]
  },
  {
   "cell_type": "code",
   "execution_count": null,
   "metadata": {
    "execution": {
     "iopub.execute_input": "2022-11-25T00:43:23.414474Z",
     "iopub.status.busy": "2022-11-25T00:43:23.414104Z",
     "iopub.status.idle": "2022-11-25T00:43:23.424515Z",
     "shell.execute_reply": "2022-11-25T00:43:23.42348Z",
     "shell.execute_reply.started": "2022-11-25T00:43:23.414421Z"
    }
   },
   "outputs": [],
   "source": [
    "# Accuracy vs Epoch\n",
    "def Accuracy_Graph(history):\n",
    "    plt.plot(history.history['accuracy'])\n",
    "    plt.plot(history.history['val_accuracy'])\n",
    "    #plt.title('Model accuracy')\n",
    "    plt.ylabel('Accuracy')\n",
    "    plt.xlabel('Epoch')\n",
    "    plt.legend(['Train', 'Validation'], loc='upper left')\n",
    "    plt.subplots_adjust(top=1.00, bottom=0.0, left=0.0, right=0.95, hspace=0.25,\n",
    "                        wspace=0.35)\n",
    "    plt.show()\n",
    "    \n",
    "# Dice Similarity Coefficient vs Epoch\n",
    "def Dice_coefficient_Graph(history):\n",
    "\n",
    "    plt.plot(history.history['dice_coef'])\n",
    "    plt.plot(history.history['val_dice_coef'])\n",
    "    #plt.title('Dice_Coefficient')\n",
    "    plt.ylabel('Dice_Coefficient')\n",
    "    plt.xlabel('Epoch')\n",
    "    plt.legend(['Train', 'Validation'], loc='upper left')\n",
    "    plt.subplots_adjust(top=1.00, bottom=0.0, left=0.0, right=0.95, hspace=0.25,\n",
    "                        wspace=0.35)\n",
    "    plt.show()\n",
    "# # Loss vs Epoch\n",
    "# def Loss_Graph(history):\n",
    "\n",
    "#     plt.plot(history.history['loss'])\n",
    "#     plt.plot(history.history['val_loss'])\n",
    "#     #plt.title('Model loss')\n",
    "#     plt.ylabel('Loss')\n",
    "#     plt.xlabel('Epoch')\n",
    "#     plt.legend(['Train', 'Validation'], loc='upper left')\n",
    "#     plt.subplots_adjust(top=1.00, bottom=0.0, left=0.0, right=0.95, hspace=0.25,\n",
    "#                         wspace=0.35)\n",
    "#     plt.show()"
   ]
  },
  {
   "cell_type": "code",
   "execution_count": null,
   "metadata": {
    "execution": {
     "iopub.execute_input": "2022-11-25T00:43:23.426892Z",
     "iopub.status.busy": "2022-11-25T00:43:23.426149Z",
     "iopub.status.idle": "2022-11-25T00:43:24.062358Z",
     "shell.execute_reply": "2022-11-25T00:43:24.061427Z",
     "shell.execute_reply.started": "2022-11-25T00:43:23.426846Z"
    }
   },
   "outputs": [],
   "source": [
    "# Plotting the Graphs of Accuracy, Dice_coefficient, Loss at each epoch on Training and Testing data\n",
    "Accuracy_Graph(history)\n",
    "Dice_coefficient_Graph(history)\n",
    "# Loss_Graph(history)"
   ]
  },
  {
   "cell_type": "code",
   "execution_count": null,
   "metadata": {
    "execution": {
     "iopub.execute_input": "2022-11-25T00:43:24.064039Z",
     "iopub.status.busy": "2022-11-25T00:43:24.063671Z",
     "iopub.status.idle": "2022-11-25T00:43:24.512373Z",
     "shell.execute_reply": "2022-11-25T00:43:24.511393Z",
     "shell.execute_reply.started": "2022-11-25T00:43:24.064Z"
    }
   },
   "outputs": [],
   "source": [
    "model.save('C://Users/20201131/Downloads/archive/saved_model/BraTs2020_rkb.h5')"
   ]
  },
  {
   "cell_type": "code",
   "execution_count": null,
   "metadata": {
    "execution": {
     "iopub.execute_input": "2022-11-25T00:43:24.514136Z",
     "iopub.status.busy": "2022-11-25T00:43:24.513781Z",
     "iopub.status.idle": "2022-11-25T00:43:24.530147Z",
     "shell.execute_reply": "2022-11-25T00:43:24.52909Z",
     "shell.execute_reply.started": "2022-11-25T00:43:24.514099Z"
    }
   },
   "outputs": [],
   "source": [
    "X_train=X_test=Y_train=Y_test=0"
   ]
  },
  {
   "cell_type": "code",
   "execution_count": null,
   "metadata": {
    "execution": {
     "iopub.execute_input": "2022-11-25T00:43:24.533063Z",
     "iopub.status.busy": "2022-11-25T00:43:24.532412Z",
     "iopub.status.idle": "2022-11-25T00:43:24.728306Z",
     "shell.execute_reply": "2022-11-25T00:43:24.727416Z",
     "shell.execute_reply.started": "2022-11-25T00:43:24.533025Z"
    }
   },
   "outputs": [],
   "source": [
    "fig = plt.figure(figsize=(5,5))\n",
    "immmg = TR[400,:,:]\n",
    "imgplot = plt.imshow(immmg)\n",
    "plt.show()"
   ]
  },
  {
   "cell_type": "code",
   "execution_count": null,
   "metadata": {
    "execution": {
     "iopub.execute_input": "2022-11-25T00:43:24.730416Z",
     "iopub.status.busy": "2022-11-25T00:43:24.72982Z",
     "iopub.status.idle": "2022-11-25T00:43:36.822174Z",
     "shell.execute_reply": "2022-11-25T00:43:36.821141Z",
     "shell.execute_reply.started": "2022-11-25T00:43:24.730378Z"
    }
   },
   "outputs": [],
   "source": [
    "pref_Tumor = model.predict(TR)"
   ]
  },
  {
   "cell_type": "code",
   "execution_count": null,
   "metadata": {
    "execution": {
     "iopub.execute_input": "2022-11-25T00:43:36.824076Z",
     "iopub.status.busy": "2022-11-25T00:43:36.823685Z",
     "iopub.status.idle": "2022-11-25T00:43:37.014422Z",
     "shell.execute_reply": "2022-11-25T00:43:37.013463Z",
     "shell.execute_reply.started": "2022-11-25T00:43:36.824039Z"
    }
   },
   "outputs": [],
   "source": [
    "fig = plt.figure(figsize=(5,5))\n",
    "immmg = pref_Tumor[400,:,:,0]\n",
    "imgplot = plt.imshow(immmg)\n",
    "plt.show()"
   ]
  },
  {
   "cell_type": "code",
   "execution_count": null,
   "metadata": {
    "execution": {
     "iopub.execute_input": "2022-11-25T00:43:37.017382Z",
     "iopub.status.busy": "2022-11-25T00:43:37.016578Z",
     "iopub.status.idle": "2022-11-25T00:43:37.54398Z",
     "shell.execute_reply": "2022-11-25T00:43:37.543043Z",
     "shell.execute_reply.started": "2022-11-25T00:43:37.017323Z"
    }
   },
   "outputs": [],
   "source": [
    "plt.figure(figsize=(20,10))\n",
    "\n",
    "\n",
    "plt.subplot(231)\n",
    "plt.title('Sample 1')\n",
    "plt.axis('off')\n",
    "plt.imshow(np.squeeze(TR[250,:,:]),cmap='gray')\n",
    "\n",
    "\n",
    "plt.subplot(232)\n",
    "plt.title('Predicted Tumor')\n",
    "plt.axis('off')\n",
    "plt.imshow(np.squeeze(pref_Tumor[250,:,:]),alpha=0.3,cmap='Reds')\n",
    "\n",
    "plt.subplot(233)\n",
    "plt.title('Prediction')\n",
    "plt.axis('off')\n",
    "plt.imshow(np.squeeze(TR[250,:,:]),cmap='gray')\n",
    "plt.imshow(np.squeeze(pref_Tumor[250,:,:]),alpha=0.3,cmap='Reds')\n",
    "\n",
    "\n",
    "plt.subplot(234)\n",
    "plt.title('Sample 2')\n",
    "plt.axis('off')\n",
    "plt.imshow(np.squeeze(TR[550,:,:]),cmap='gray')\n",
    "\n",
    "\n",
    "plt.subplot(235)\n",
    "plt.title('Predicted Tumor')\n",
    "plt.axis('off')\n",
    "plt.imshow(np.squeeze(pref_Tumor[550,:,:]),alpha=0.3,cmap='Reds')\n",
    "\n",
    "plt.subplot(236)\n",
    "plt.title('Prediction')\n",
    "plt.axis('off')\n",
    "plt.imshow(np.squeeze(TR[550,:,:]),cmap='gray')\n",
    "plt.imshow(np.squeeze(pref_Tumor[550,:,:]),alpha=0.3,cmap='Reds')"
   ]
  },
  {
   "cell_type": "code",
   "execution_count": null,
   "metadata": {},
   "outputs": [],
   "source": []
  },
  {
   "cell_type": "code",
   "execution_count": null,
   "metadata": {},
   "outputs": [],
   "source": []
  }
 ],
 "metadata": {
  "kernelspec": {
   "display_name": "Python 3 (ipykernel)",
   "language": "python",
   "name": "python3"
  },
  "language_info": {
   "codemirror_mode": {
    "name": "ipython",
    "version": 3
   },
   "file_extension": ".py",
   "mimetype": "text/x-python",
   "name": "python",
   "nbconvert_exporter": "python",
   "pygments_lexer": "ipython3",
   "version": "3.10.9"
  }
 },
 "nbformat": 4,
 "nbformat_minor": 4
}
